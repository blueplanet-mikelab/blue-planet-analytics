{
 "nbformat": 4,
 "nbformat_minor": 2,
 "metadata": {
  "language_info": {
   "name": "python",
   "codemirror_mode": {
    "name": "ipython",
    "version": 3
   }
  },
  "orig_nbformat": 2,
  "file_extension": ".py",
  "mimetype": "text/x-python",
  "name": "python",
  "npconvert_exporter": "python",
  "pygments_lexer": "ipython3",
  "version": 3
 },
 "cells": [
  {
   "cell_type": "code",
   "execution_count": 59,
   "metadata": {},
   "outputs": [],
   "source": [
    "#import global\n",
    "import pprint\n",
    "import os\n",
    "import random\n",
    "import numpy as np"
   ]
  },
  {
   "cell_type": "markdown",
   "execution_count": null,
   "metadata": {},
   "outputs": [],
   "source": [
    "### Preparing dataset"
   ]
  },
  {
   "cell_type": "code",
   "execution_count": 27,
   "metadata": {},
   "outputs": [],
   "source": [
    "import csv\n",
    "\n",
    "filePath = './blueplanet_dataset/scores.csv'\n",
    "with open(filePath, 'r', encoding=\"utf8\") as csv_file:\n",
    "    csv_reader = csv.reader(csv_file, delimiter=',')\n",
    "    scoresList = {row[0]: row[1] for row in csv_reader}"
   ]
  },
  {
   "cell_type": "code",
   "execution_count": 28,
   "metadata": {},
   "outputs": [
    {
     "name": "stdout",
     "output_type": "stream",
     "text": "1uXxefX7xMkE-o.jpg': '3',\n '9505_q06a8212qjN4p0BKlq6-o.jpg': '3',\n '9506_q06a82bt4drcsinb4Ub-o.jpg': '3',\n '9507_q06a8y2h653252sOTtyU-o.jpg': '6',\n '9508_q06acnudqWlX9qH0WDn-o.jpg': '9',\n '9509_q06adw14w7CZnMsveI5-o.jpg': '6',\n '9510_q06adw9pgsgBEdoG8Zf-o.jpg': '6',\n '9511_q06adwak9AAPBV4Il7G-o.jpg': '6',\n '9512_q06adwhwhx7UQnXobXa-o.jpg': '9',\n '9513_q06adwpdp2ng12l23Cw-o.jpg': '4',\n '9514_q06adwxt8tiylc19Qo9-o.jpg': '1',\n '9515_q06afx11aqB7X7I73pHd-o.jpg': '6',\n '9516_q06afx2a38wRfnth2TGX-o.jpg': '8',\n '9517_q06afxpf6WAv6jiEQbf-o.jpg': '5',\n '9518_q06ajkbwvOhDjWD51t1-o.jpg': '9',\n '9519_q06ari1m33RqqlJKGEua-o.jpg': '8',\n '9520_q06ari9pp1ne59nFsJb-o.jpg': '9',\n '9521_q06arihyk7T9faDd3Sq-o.jpg': '6',\n '9522_q06ariztjtmGnTj1LRt-o.jpg': '4',\n '9523_q06atg2h6iCgvuW7WBTs-o.jpg': '6',\n '9524_q06atgampnm7Gp1rnlj-o.jpg': '6',\n '9525_q06atgbx02Hz5NsHl3Q-o.jpg': '6',\n '9526_q06atghz3NT55rY1w5v-o.jpg': '6',\n '9527_q06b1c2o9olo7PGNjHTC-o.jpg': '9',\n '9528_q06b1c2vbrdQr8RUouuK-o.jpg': '9',\n '9529_q06b1cahyoa484z8DhO-o.jpg': '7',\n '9530_q06b1cbwovLklynh7hs-o.jpg': '9',\n '9531_q06b1cpcezYpd7S7Ju5-o.jpg': '2',\n '9532_q06b1cztn1ZFX1k4bUz-o.jpg': '7',\n '9533_q06b6fambS6KkgFBAOK-o.jpg': '6',\n '9534_q06b6fhykXXANG3yjCc-o.jpg': '5',\n '9535_q06baw221yo0mb7xtkLU-o.jpg': '9',\n '9536_q06bdr232yR8Tstdaqrn-o.jpg': '8',\n '9537_q06bdr9n7EOJWHITT4N-o.jpg': '6',\n '9538_q06bdrpewUkLKoAX7Ab-o.jpg': '9',\n '9539_q06bdruda1wfXqqqwsx-o.jpg': '8',\n '9540_q06bdrxsd5y1jmb4KzX-o.jpg': '6',\n '9541_q06bfkn8uK1OJ9d8XS2-o.jpg': '6',\n '9542_q06bka11bpL2VBHKWwvN-o.jpg': '7',\n '9543_q06bkas7bwObXqRtv0d-o.jpg': '7',\n '9544_q06blm2330PKE47i5xBW-o.jpg': '9',\n '9545_q06blm55imYHmMMKRJV-o.jpg': '9',\n '9546_q06blm6jkDl7Kx815MH-o.jpg': '9',\n '9547_q06blmak2I5AIlWEBV7-o.jpg': '9',\n '9548_q06blmane5PmxErr78T-o.jpg': '9',\n '9549_q06blmn8vaRpNb5ckuZ-o.jpg': '8',\n '9550_q06bln1m33O2Nir65KbW-o.jpg': '8',\n '9551_q06bln9pev5FqRf5Vzd-o.jpg': '8',\n '9552_q06blnhy1BfXKQoamgZ-o.jpg': '8',\n '9553_q06blnpbbJFmf9v2Q2S-o.jpg': '8',\n '9554_q06bog271b56QwVmFSGc-o.jpg': '6',\n '9555_q06bogbu6D3vWWAgIFB-o.jpg': '8',\n '9556_q06bogpb5472RdwoArw-o.jpg': '9',\n '9557_q06bogxq2ccaPoS634M-o.jpg': '2',\n '9558_q06bp71m396tCX5pyNow-o.jpg': '0',\n '9559_q06bp7432vlxmWnFllP-o.jpg': '7',\n '9560_q06bp7alx7oR4JSQn0I-o.jpg': '2',\n '9561_q06bp7bthQvifrINFG7-o.jpg': '7',\n '9562_q06bp7bw2mD9fyk1hln-o.jpg': '5',\n '9563_q06bp7pbkXKb6lNXgax-o.jpg': '1',\n '9564_q06bp7udp1btV3X4GMh-o.jpg': '6',\n '9565_q06bqtpb3WnI1zLLhB2-o.jpg': '0',\n '9566_q06btr11aqRVpXDlWIAT-o.jpg': '1',\n '9567_q06btram27q0fDS1ajV-o.jpg': '1',\n '9568_q06buhakwtGVQ5KUCMp-o.jpg': '0',\n '9569_q06cn9pcgh2IW99gIX7-o.jpg': '3',\n '9570_q06cn9xs0Nx5cijBNbs-o.jpg': '3',\n '9571_q06csnak2CguoOJ5Zay-o.jpg': '0',\n '9572_q06csnamec4WdVAUs7c-o.jpg': '1',\n '9573_q06csnbu7hKBQgFDc62-o.jpg': '6',\n '9574_q06d018ywmXe1kOVJUM-o.jpg': '9',\n '9575_q06d019qvv7Bct6L4Gt-o.jpg': '9',\n '9576_q06d01bv2B47ROybE2N-o.jpg': '7',\n '9577_q06d01pd2WEu1G5q7H1-o.jpg': '9',\n '9578_q06d01zthd973M1RsGu-o.jpg': '5',\n '9579_q06dkghxuCY6Vn2yg5e-o.jpg': '8',\n '9580_q06dpxbvpyyhfftBE5J-o.jpg': '9',\n '9581_q06dss1him1huIKk7v5-o.jpg': '7',\n '9582_q06dss30kzlNBa8r4Ncx-o.jpg': '7',\n '9583_q06dssaib351cRh97av-o.jpg': '9',\n '9584_q06dssc4lSqO07tgMNn-o.jpg': '9',\n '9585_q06dsshx4kYYpuwf94G-o.jpg': '7',\n '9586_q06dssxtzRz6HhF2mXq-o.jpg': '9',\n '9587_q06fyr3z6paWZDef714e-o.jpg': '7',\n '9588_q06g055v3002ZV1JDpUT-o.jpg': '8',\n '9589_q06g0r5v2rY7yYwH3zqM-o.jpg': '6',\n '9590_q06g2hhyyQLaQCBkwQd-o.jpg': '9',\n '9591_q06g3o5tjqz9JS4Rtv0q-o.jpg': '9',\n '9592_q06g4kaib8xx6cNKUT6-o.jpg': '6',\n '9593_q06g5a5v3qJ4J3Ti9WP4-o.jpg': '6',\n '9594_q06g61i0zPnqQ7mq2EE-o.jpg': '6',\n '9595_q06g6kamexoY4Ga2AkM-o.jpg': '5',\n '9596_q06g7c4de8k4pmpLx0zw-o.jpg': '9',\n '9597_q06g885nzzAbdCaKNmoH-o.jpg': '6',\n '9598_q06g8se7xvzWAoHbB4A-o.jpg': '1',\n '9599_q06g8yai7PA1cx7fZO2-o.jpg': '5',\n '9600_q06g9s5o036Muvr2IwrZ-o.jpg': '6',\n '9601_q06gcibx9Mf0UOc0206-o.jpg': '8',\n '9602_q06ge69mjW7WO9oIdBo-o.jpg': '1',\n '9603_q06gf062f6c6F3cejyyK-o.jpg': '2',\n '9604_q06gfu9q96cejANRbV2-o.jpg': '3',\n '9605_q06ghvpejBbMfv8gz3x-o.jpg': '2',\n '9606_q06gio62f3JcvgcwAJNm-o.jpg': '3',\n '9607_q06gjk4s0gXivNOE41R9-o.jpg': '2',\n '9608_q06gk94s0dwJ3AtWcI1F-o.jpg': '2',\n '9609_q06gl9xsjlFdE1KLVpI-o.jpg': '1',\n '9610_q06gla4kmgoZUklzdya4-o.jpg': '6',\n '9611_q06gn9hxm40ZETT0gGf-o.jpg': '3',\n '9612_q06gqhhwvNSxo1N2inw-o.jpg': '9',\n '9613_q06gwahzvmNu5TXK24T-o.jpg': '0',\n '9614_q06h364s0esSCV9rTmvX-o.jpg': '2',\n '9615_q06h6hxpyY0n0oQiIp7-o.jpg': '3',\n '9616_q06h75aidHYLUV0SYPP-o.jpg': '1',\n '9617_q06h813pk3zX5KCY1d2-o.jpg': '8',\n '9618_q06h87jekR9p3SXr1nn-o.jpg': '8',\n '9619_q06h8fhwxfUvP8ku7Ph-o.jpg': '6',\n '9620_q06h8l4s0ef4v3RjMAum-o.jpg': '7',\n '9621_q06hadbwjkD6uCObXct-o.jpg': '9',\n '9622_q06hadbwkdCwlhDQszY-o.jpg': '9',\n '9623_q06haepdnczZj19cH7U-o.jpg': '9',\n '9624_q06hag9new2gGaU4EfJ-o.jpg': '9',\n '9625_q06hd74po4H2ZR2i21kS-o.jpg': '2',\n '9626_q06hge4z96OoT7AfrFxk-o.jpg': '2',\n '9627_q06hie24bSqMdM0fMUz-o.jpg': '2',\n '9628_q06hljbx03x95QbEDve-o.jpg': '1',\n '9629_q06hne9oheoJI3o1oPk-o.jpg': '2',\n '9630_q06hox4knl0VUTCra3Uj-o.jpg': '2',\n '9631_q06hqs4s0e8OSsUM3Pcp-o.jpg': '0',\n '9632_q06ht4hyq5UGyRkx2qI-o.jpg': '3',\n '9633_q06hvgxq2RlnBmJpWMG-o.jpg': '1',\n '9634_q06hyqpeeRRqAzvjd2W-o.jpg': '2',\n '9635_q06i084s0jupKpVGT0Jx-o.jpg': '1',\n '9636_q06iqy2v8lndsHPFKW7-o.jpg': '1',\n '9637_q06irw280W1fcgiQiuf-o.jpg': '4',\n '9638_q06irw4s0fALNSFgZoN4-o.jpg': '5',\n '9639_q06irw9pfYi6jR2V02E-o.jpg': '5',\n '9640_q06ish6hahxy389qAN9R-o.jpg': '6',\n '9641_q06isi6hb2NwbtiAlTNr-o.jpg': '4',\n '9642_q06iu469t24HnhCZKmTS-o.jpg': '5',\n '9643_q06iux73kbDqojkhTCG5-o.jpg': '3',\n '9644_q06iuy6omtJAoQDbsOMs-o.jpg': '3',\n '9645_q06ivqos2GrhFfe6RXe-o.jpg': '3',\n '9646_q06ixn4z9ehhSd02LZWl-o.jpg': '5',\n '9647_q06ixn73kbaPKCQTmzdb-o.jpg': '5',\n '9648_q06ixnaixx2gxxQFEED-o.jpg': '5',\n '9649_q06ixnbw655zzq1enRf-o.jpg': '8',\n '9650_q06ixni9gl9b0HNO9YN-o.jpg': '9',\n '9651_q06ixy9nej0lxSDVVhJ-o.jpg': '4',\n '9652_q06ixyhy2qLX2J7hHAb-o.jpg': '3',\n '9653_q06ixypf4pa6Ujbm124-o.jpg': '2',\n '9654_q06izebu0hhYTP0Mfak-o.jpg': '4',\n '9655_q06j064z9yvCX2d0zGip-o.jpg': '4',\n '9656_q06j0673l2A3L906LQsB-o.jpg': '4',\n '9657_q06j1bpd24eGXdOn1aK-o.jpg': '3',\n '9658_q06j2iajm3rcyZv4zVt-o.jpg': '2',\n '9659_q06j2iorfnyJvZh5yQM-o.jpg': '2',\n '9660_q06j39qtyXCpafD190h-o.jpg': '5',\n '9661_q06jbei0e84LSehKGmi-o.jpg': '4',\n '9662_q06jbwnqsMDdPbC6KED-o.jpg': '4',\n '9663_q06jco5srbH44c2CHYyp-o.jpg': '3',\n '9664_q06jco9s6ZPVX2MN4wt-o.jpg': '4',\n '9665_q06jd473mgM20kJ4ybwc-o.jpg': '3',\n '9666_q06jd4aj4m1Swav8uYF-o.jpg': '4',\n '9667_q06jdfamp2iGA6aSIC2-o.jpg': '5',\n '9668_q06jdp7irjXV4G2Ixm22-o.jpg': '5',\n '9669_q06jf04wtf77kba1WGa-o.jpg': '5',\n '9670_q06jf05ldlMSkLDgfTz2-o.jpg': '5',\n '9671_q06jfibw1QBd98C2w5b-o.jpg': '5',\n '9672_q06jg273lkBrMbbO5Y8a-o.jpg': '5',\n '9673_q06jg2ajmF7MSMYn3OS-o.jpg': '5',\n '9674_q06jgwhypM4oqq1EO4n-o.jpg': '7',\n '9675_q06jin9r2EoGzLWRsfx-o.jpg': '5',\n '9676_q06jio73kxYWKI8TCWEF-o.jpg': '7',\n '9677_q06jj45lc7TkuAOt8Zx7-o.jpg': '3',\n '9678_q06jjtbu0ZhUYin6O1A-o.jpg': '4',\n '9679_q06jkj9pxVNbKAkn4kR-o.jpg': '3',\n '9680_q06jlf1hi97rLikgQfj-o.jpg': '3',\n '9681_q06jlf73l2fvigi6q05T-o.jpg': '3',\n '9682_q06jlfbv0xM7a1uH2Za-o.jpg': '3',\n '9683_q06jlfxscSNz7KG24SB-o.jpg': '3',\n '9684_q06jlxpcsOmg8rAFxbi-o.jpg': '3',\n '9685_q06jmpbu6nfoM5He3FZ-o.jpg': '2',\n '9686_q06ju0606bEm8SOTAaQI-o.jpg': '9',\n '9687_q06jus67geJ17JKEFVme-o.jpg': '1',\n '9688_q06jzp5sr9hhREMcONE0-o.jpg': '9',\n '9689_q06jzr67g3NrenEKpqdS-o.jpg': '7',\n '9690_q06jzr7is8DZV3xdNLBR-o.jpg': '7',\n '9691_q06jzr7qd0EDibde4976-o.jpg': '7',\n '9692_q06jzraklVvcuffe609-o.jpg': '9',\n '9693_q06jzrtqoMGVohbhhnm-o.jpg': '9',\n '9694_q06k31akbgAoUgg4xoh-o.png': '1',\n '9695_q06k5uxudgN8HTF4EOq-o.jpg': '2',\n '9696_q06k9w4wtG8z47D21Oe-o.jpg': '3',\n '9697_q06k9w5srasBgQDaef45-o.jpg': '0',\n '9698_q06k9w606mLA6W9QIOXP-o.jpg': '3',\n '9699_q06k9w7b91uynPA1KNcI-o.jpg': '4',\n '9700_q06k9w7b9p2UfAtux9pq-o.jpg': '0',\n '9701_q06k9w7isr1BBJwjZZBE-o.jpg': '3',\n '9702_q06k9w7it0wpFaQPVJsj-o.jpg': '0',\n '9703_q06k9w7qd0YMa4kE5VQL-o.jpg': '3',\n '9704_q06k9w7qd1aeyelu1lJV-o.jpg': '5',\n '9705_q06k9wai7YpuExE0IH3-o.jpg': '3',\n '9706_q06k9wakwoS8QaX8JAc-o.jpg': '6',\n '9707_q06k9wakxj5tID06QD6-o.jpg': '1',\n '9708_q06k9we7oGab7Xn7zNX-o.jpg': '3',\n '9709_q06k9why39r3ODuPFVu-o.jpg': '1',\n '9710_q06k9why7suT9V1imrW-o.jpg': '1',\n '9711_q06k9wxqrfoT4ab5eBm-o.jpg': '3',\n '9712_q06k9wxsiPIV7XaeupP-o.jpg': '8',\n '9713_q06kl85ldnMpo1DIu9yG-o.jpg': '4',\n '9714_q06kl87b9qoUBYm4b2TF-o.jpg': '8',\n '9715_q06kl8i192382nJQW1K-o.jpg': '3',\n '9716_q06kl8xrfJevmIm0O7d-o.jpg': '1',\n '9717_q06kn37x8vQEYdyjO7So-o.jpg': '1',\n '9718_q06kn3bu7yJC28xWKEk-o.jpg': '5',\n '9719_q06koz67g4l2Mn2ISTEl-o.jpg': '3',\n '9720_q06koz7x8gMXu4PRg41t-o.jpg': '3',\n '9721_q06koz84jwsE6RuP1cCI-o.jpg': '9',\n '9722_q06kozamb4TWwMwt3ty-o.jpg': '3',\n '9723_q06kozhwriX4K5XixJM-o.jpg': '3',\n '9724_q06kp021fguluZaoqjJ-o.jpg': '0',\n '9725_q06kp0606mdwwgiie1PN-o.jpg': '3',\n '9726_q06kp06lehIoW2kJyT9F-o.jpg': '3',\n '9727_q06kp06lelboPPS7CfWw-o.jpg': '3',\n '9728_q06kp07b8qaG3qAiqPmT-o.jpg': '3',\n '9729_q06kp07issphl3r7O8L8-o.jpg': '1',\n '9730_q06kp084ipdq24pvzNtM-o.jpg': '3',\n '9731_q06kp084k38X09J5OARF-o.jpg': '3',\n '9732_q06kp0ai5dwgDpjU3Sc-o.jpg': '7',\n '9733_q06kp0i0ekqhwpEO2h4-o.jpg': '3',\n '9734_q06kp0xraeVq2ABILx3-o.jpg': '4',\n '9735_q06kp0xsiXsYqZ3d4F1-o.jpg': '3',\n '9736_q06kt1237e7fh2bU2EK-o.jpg': '9',\n '9737_q06kt1akvmQ8qyKD71j-o.jpg': '9',\n '9738_q06kt1bxe5ll51Ba9ZY-o.jpg': '9',\n '9739_q06kux6ajpLfnQi4JGTT-o.jpg': '5',\n '9740_q06mqa84jy683oPuDP2N-o.jpg': '8',\n '9741_q06n2r7rfWrU6jMjMHP-o.jpg': '8',\n '9742_q06n4cbwsRIsDKcq6bG-o.jpg': '9',\n '9743_q06not103hncVN5yDMQs-o.jpg': '9',\n '9744_q06not55iv1MSKMEVGo-o.jpg': '8',\n '9745_q06not84jyBaVS3L57bl-o.jpg': '9',\n '9746_q06not8om42jd12BJECD-o.jpg': '9',\n '9747_q06not9ohw7s63H7O1b-o.jpg': '9',\n '9748_q06notbtzLQnTrG31yF-o.jpg': '8',\n '9749_q06notxs0h2IUkNzBUB-o.jpg': '9',\n '9750_q06okw755gWix4sAQbBM-o.jpg': '7',\n '9751_q06okw7riU2hhJw1kaN-o.jpg': '9',\n '9752_q06okw84jlwnao4GayFt-o.jpg': '8',\n '9753_q06okwku3aHzgrUC56P-o.jpg': '6',\n '9754_q06okx7qjp4SDjST5Lgi-o.jpg': '7',\n '9755_q06okx84jd20l1iljtM7-o.jpg': '2',\n '9756_q06olj9ndD5jhUVEvuC-o.jpg': '4',\n '9757_q06ow384jz7UHZTDSo0E-o.jpg': '6',\n '9758_q06ow3akeUa8SgYZKwU-o.jpg': '8',\n '9759_q06p9884jf58nkn9A7VV-o.jpg': '7',\n '9760_q06p98bw2Y9II1f2mBZ-o.jpg': '8',\n '9761_q06p98e7jmoAHL134F8-o.jpg': '7',\n '9762_q06p98xt7Ai7Xib3geN-o.jpg': '7',\n '9763_q06pbapeevqykARiCZG-o.jpg': '8',\n '9764_q06pbb754sJi4p7Btdyd-o.jpg': '8',\n '9765_q06pbbbuf6LCTDku1FT-o.jpg': '9',\n '9766_q06pg4aidKVbeEkl94P-o.jpg': '9',\n '9767_q06phk84k3oJD8b7J932-o.jpg': '8',\n '9768_q06plj9rbHCXdt7yhqG-o.jpg': '7',\n '9769_q06plui0xShbI7scHzQ-o.jpg': '6',\n '9770_q06pme5wepDKTCXDSH7-o.jpg': '0',\n '9771_q06pme6ley6yGr20ePlk-o.jpg': '5',\n '9772_q06pme8omkzngHd04YeF-o.jpg': '8',\n '9773_q06pmeahy6ii8gJK7Jf-o.jpg': '2',\n '9774_q06pmebut1NfUa7ggs5-o.jpg': '6',\n '9775_q06pmehy7Zgy0fpBLFX-o.jpg': '6',\n '9776_q06pmehyrNpnHwyBMnW-o.jpg': '1',\n '9777_q06pmexqfFRREnU5YTq-o.jpg': '1',\n '9778_q06pmfakwmU5Oy0Tk3i-o.jpg': '6',\n '9779_q06pmfi0c03YPxYA7bC-o.jpg': '9',\n '9780_q06pmfoqtkKboL3qIdT-o.jpg': '8',\n '9781_q06pws7544naXTEP9s3m-o.jpg': '9',\n '9782_q06pws84jxf5EPFvjRyO-o.jpg': '8',\n '9783_q06pwsai9429W8fbw50-o.jpg': '8',\n '9784_q06pwsak5cgkrk2M3hX-o.jpg': '9',\n '9785_q06pybhyiJjOto2zsJm-o.jpg': '7',\n '9786_q06pyc9oiIVbuabV8iQ-o.jpg': '9',\n '9787_q06q0t6lebtpE1muKJD8-o.jpg': '6',\n '9788_q06q2tku4ze9FSaHQve-o.jpg': '4',\n '9789_q06q3mpelh0OjA1kB5v-o.jpg': '7',\n '9790_q06q4bhyqw1GwthvZpl-o.jpg': '8',\n '9791_q06q4y8omr3X4fQFSOeO-o.jpg': '6',\n '9792_q06q7mhxm6lrufqUv3S-o.jpg': '6',\n '9793_q06qa09n6QEBqhLUJgz-o.jpg': '9',\n '9794_q06qaf754pXMlvfKIcI3-o.jpg': '9',\n '9795_q06qaxbwsC0ts03eBT4-o.jpg': '4',\n '9796_q06qb96lf624564Rq5IR-o.jpg': '9',\n '9797_q06qbkbx0cRDiN8RLHE-o.jpg': '9',\n '9798_q06qbx6leg3VzLqnCci2-o.jpg': '9',\n '9799_q06qbxbwq7I43HqobHk-o.jpg': '8',\n '9800_q06qddaj2AObsnJEP6R-o.jpg': '9',\n '9801_q06qe8amlu7x51Z23j6-o.jpg': '8',\n '9802_q06qf18onqH4VPeT4eoA-o.jpg': '9',\n '9803_q06qfd84j4QxsECUnl4U-o.jpg': '9',\n '9804_q06qgk2oggOgNWyALN9-o.jpg': '9',\n '9805_q06qh36lf8x9Y5T3ws92-o.jpg': '8',\n '9806_q06qhkxtrMyr67s1set-o.jpg': '7',\n '9807_q06qil10eugm7U4LqOU2-o.jpg': '7',\n '9808_q06qkgpde2yVPAm40sA-o.jpg': '6',\n '9809_q06qln8bczbqdZLsA1Ai-o.jpg': '9',\n '9810_q06qm48om7euuU5jKbgJ-o.jpg': '5',\n '9811_q06qmrbx8lkMUKLovEC-o.jpg': '9',\n '9812_q06qne8onoiS4THlFsCH-o.jpg': '8',\n '9813_q06qo7753xKMmBSh3UaN-o.jpg': '7',\n '9814_q06qpw7qjpSNFSloTNfN-o.jpg': '9',\n '9815_q06qqfku1Ogpy839nwS-o.jpg': '1',\n '9816_q06qqkakb12ChlOuAyR-o.jpg': '9',\n '9817_q06qr5j1ytt5jF7g2Z3-o.jpg': '8',\n '9818_q06qt0xr37f7xxD31Q0-o.jpg': '6',\n '9819_q06qtixpxtz5xOj4sMg-o.jpg': '8',\n '9820_q06qtjpf5jYWeyRD5D5-o.jpg': '7',\n '9821_q06quj7546sT5dDrx7hQ-o.jpg': '8',\n '9822_q06qujajnNR4m5vOXPj-o.jpg': '9',\n '9823_q06qujxqgnFc5H77ue0-o.jpg': '9',\n '9824_q06qvk754uuFMvw983LX-o.jpg': '8',\n '9825_q06qvk8ommZ2P2QC4Tqt-o.jpg': '9',\n '9826_q06qvkhycqyRICPYDg5-o.jpg': '8',\n '9827_q06r1sbjhhl4ptXvHUx-o.jpg': '9',\n '9828_q06r3i6jarIrk9723dF-o.jpg': '8',\n '9829_q06r4j7ri14PtBGWyLM-o.jpg': '9',\n '9830_q06r5d7ri0PmhSYLxjx-o.jpg': '9',\n '9831_q06r5x9qj3YQLg49ZuT-o.jpg': '9',\n '9832_q06r6lztoRM3BAQ2MZT-o.jpg': '8',\n '9833_q06r8fairHvhdD1Lo0c-o.jpg': '9',\n '9834_q06r8v6len7Kcpvybinq-o.jpg': '0',\n '9835_q06r99hz3FMqw5Nkynj-o.jpg': '7',\n '9836_q06r9y6leda9BRqL8jvA-o.jpg': '8',\n '9837_q06ram754924FRP8ngyH-o.jpg': '9',\n '9838_q06rdca9i28HJN07pad-o.jpg': '9',\n '9839_q06re5butMMllkmBcI2-o.jpg': '9',\n '9840_q06rf28omyybvg1Ay1la-o.jpg': '7',\n '9841_q06rll6lffJoBHh1LXws-o.jpg': '0',\n '9842_q06rrgbumKSkuSF3jOf-o.jpg': '5',\n '9843_q06rszbu6cvm1Xp7it7-o.jpg': '9',\n '9844_q06rta7556S3spay87Tu-o.jpg': '8',\n '9845_q06rxzbusdC7ynwTuFj-o.jpg': '8',\n '9846_q06s1t6lf6cYco4SP5Am-o.jpg': '9',\n '9847_q06s24h13iGkGYNkxl5-o.jpg': '6',\n '9848_q06s7ubudmZvAm1ubnA-o.jpg': '6',\n '9849_q06s9j9r79j1e1WtZcC-o.jpg': '6',\n '9850_q06sduaktofVxT8kCvy-o.jpg': '3',\n '9851_q06seh9nz6294HFQsFe-o.jpg': '4',\n '9852_q06sigxs9iPerW2Wt6k-o.jpg': '1',\n '9853_q06sm1ai9A3b3bDUeU2-o.jpg': '3',\n '9854_q06tl7akgIn69bfsnNK-o.jpg': '8',\n '9855_q06tm47547ApaTKFW8kh-o.jpg': '4',\n '9856_q06txz8omlORdea7J8In-o.jpg': '9',\n '9857_q06u0ebv42N4hj6q7Y1-o.jpg': '7',\n '9858_q06u3u6ylk0t1vSx95Jd-o.jpg': '3',\n '9859_q06uc86lezJqy2OT32HZ-o.jpg': '2',\n '9860_q06uds6jkW0B5zDdWEw-o.jpg': '9',\n '9861_q06uf1l6vN3epmlhINl-o.jpg': '0',\n '9862_q06wwmajjAn1PGvYO4C-o.jpg': '1',\n '9863_q06x627555fnG5IPHc7L-o.jpg': '3',\n '9864_q06x629qgv6NKt39AQ1-o.jpg': '3',\n '9865_q06x62pdtsWreLvamaR-o.jpg': '3',\n '9866_q06x6a1fkd93ZO5U3457-o.jpg': '4',\n '9867_q06x6a9qrz69FWZS6ZN-o.jpg': '3',\n '9868_q06x6a9s6jrEt4ITqZXG-o.jpg': '3',\n '9869_q06x6am1f3hV5t87f1s-o.jpg': '5',\n '9870_q06x6b8bd8Nzdk0p62jF-o.jpg': '6',\n '9871_q06x6bcykKBcW5moogn-o.jpg': '7',\n '9872_q06x8b7549pPxE1FleiN-o.jpg': '3',\n '9873_q06x8b755lNd4sH3PdZg-o.jpg': '3',\n '9874_q06x8b9ahs4evjBQgt71-o.jpg': '6',\n '9875_q06x8bais9xoUZ6lX5k-o.jpg': '7',\n '9876_q06x8bamomEWaxci1U9-o.jpg': '2',\n '9877_q06x8bbu9dJPwPn2IY4-o.jpg': '5',\n '9878_q06x8bi1bc4OHcsuT73-o.jpg': '6',\n '9879_q06x8bpf6uG1nKSVed7-o.jpg': '5',\n '9880_q07t511dmiit4KSoac5-o.jpg': '9',\n '9881_q07t52akcrD5sfkEi9d-o.jpg': '8',\n '9882_q07t52bx0Le12IS4Ojn-o.jpg': '8',\n '9883_q07t52hz6MYJS8mT38x-o.jpg': '8',\n '9884_q07t52uy4mZXb624fh4-o.jpg': '7',\n '9885_q07tg1alp0Kp1Na4DTq-o.jpg': '8',\n '9886_q07tmmd1hsDhrRF5P7l-o.jpg': '7',\n '9887_q07toe7re1LX1AX3vZe-o.jpg': '9',\n '9888_q07toe9qjjCF718F5Y8-o.jpg': '9',\n '9889_q07trgi04N7EnydzK75-o.jpg': '7',\n '9890_q07trgpd2vc21iT7KNs-o.jpg': '8',\n '9891_q07tx22r6wUVqcaWPl7j-o.jpg': '3',\n '9892_q07tx275570Qd8c3WYzK-o.jpg': '2',\n '9893_q07tx2hzuFscCSCMTD2-o.jpg': '3',\n '9894_q07uhv8on18nw6dlwC4w-o.jpg': '9',\n '9895_q07v55ai7Sg4x0FdUjK-o.jpg': '9',\n '9896_q07v651k9oJcoWLG5T2V-o.jpg': '7',\n '9897_q07vnv8uysV29vnSHjq7-o.jpg': '4',\n '9898_q07vnvqunSYRrvIcbI6-o.jpg': '6',\n '9899_q07voa1ouavNfcGzxtrO-o.jpg': '3',\n '9900_q07voa928az9j2FlyWY8-o.jpg': '9',\n '9901_q07voxhy2jtZER1P8do-o.jpg': '8',\n '9902_q07vpd1k9lSJKi8N8Pkp-o.jpg': '8',\n '9903_q07vpd9nyQMpghiFhNF-o.jpg': '8',\n '9904_q07vpdpffC7MyxRruay-o.jpg': '8',\n '9905_q07vpw15f1MSOrExkjSX-o.jpg': '9',\n '9906_q07vqjahy3lHwbTZQVC-o.jpg': '7',\n '9907_q07vqjbv3xmb7B0iP7h-o.jpg': '7',\n '9908_q07vqjpfeHhk70gf9J5-o.jpg': '7',\n '9909_q07vqwhzlgjejVgR3Y9-o.jpg': '8',\n '9910_q07vqwku1txy8WrBIMw-o.jpg': '5',\n '9911_q07vrr9eqwMp418jOkIu-o.jpg': '8',\n '9912_q07vrri03v1CSoPhG6o-o.jpg': '9',\n '9913_q07vrrxrvBItw53mr3Y-o.jpg': '9',\n '9914_q07vwp2hju0Mlu8DiVnW-o.jpg': '0',\n '9915_q07wea9ahno6Je5EcUuB-o.jpg': '1',\n '9916_q07whl72rcRlSuaw2I2e-o.jpg': '7',\n '9917_q07whlhyi6acGRJK7GF-o.jpg': '9',\n '9918_q07x0m1fkk6WUdTQ7G3O-o.jpg': '4',\n '9919_q07xha1dnQq4sgJrUMC-o.jpg': '8',\n '9920_q07xhakxnna5c56Qc2B-o.jpg': '6',\n '9921_q07xpzxuwjJ8jz8kGP0-o.jpg': '2',\n '9922_q07xq92mdkHXWj7nFECx-o.jpg': '0',\n '9923_q07xsior1sX54J9Q0VZ-o.jpg': '2',\n '9924_q07yma4qpzO3WBUqTG5-o.jpg': '0',\n '9925_q07ywa7550gAfHXgpFjO-o.jpg': '7',\n '9926_q07ywaam99OKNeIVJfn-o.jpg': '4',\n '9927_q07ywapdnt6ZmWFqT3k-o.jpg': '5',\n '9928_q07yyebx1ylNjZOWwXp-o.jpg': '0',\n '9929_q07yyeji7dJMdKgKGk6-o.jpg': '0',\n '9930_q07z2huy91uTdOG623J-o.jpg': '0',\n '9931_q07zuj8ebg9jCA2Vg21v-o.jpg': '8',\n '9932_q07zuji0xVrhKTiTTo2-o.jpg': '6',\n '9933_q07zujpewwxC2ueospa-o.jpg': '6',\n '9934_q07zujxrbQUHuKtHqEk-o.jpg': '7',\n '9935_q07zuk147vu5JbfMpa7J-o.jpg': '6',\n '9936_q07zuk21fcNZlAYp7ol-o.jpg': '8',\n '9937_q07zuk81bzT7KaVJFqZz-o.jpg': '9',\n '9938_q07zuk87qhVhZBWvEvBi-o.jpg': '9',\n '9939_q07zuk8eb2wup5BkXuqK-o.jpg': '8',\n '9940_q07zuk9p28nzJcv1F8x-o.jpg': '8',\n '9941_q07zukaklm8IJXTgaQq-o.jpg': '8',\n '9942_q07zuki0qLSHWjCP2lU-o.jpg': '9',\n '9943_q07zuki0zi9uosMcbAR-o.jpg': '9',\n '9944_q07zukl6vQ9BzzonHM3-o.jpg': '8',\n '9945_q07zukxrhnB84hbo6ko-o.jpg': '9',\n '9946_q0800o309uK4hjxZ7pZJ-o.jpg': '9',\n '9947_q0800oai9FJm7YiSf1l-o.jpg': '8',\n '9948_q0800opfcBY3E4W14zt-o.jpg': '3',\n '9949_q0800p1u81ib1kFlzYIz-o.jpg': '7',\n '9950_q0800p6ie2ZveCp898aX-o.jpg': '8',\n '9951_q0800p9ooVV2pQI8RhA-o.jpg': '6',\n '9952_q0800p9rmXQQYXg2ZdI-o.jpg': '8',\n '9953_q0800pbv2ymd4oqX8E8-o.jpg': '4',\n '9954_q0800phybGskdGM5llr-o.jpg': '4',\n '9955_q0800pxtwbjsuY8iKSb-o.jpg': '7',\n '9956_q0802zpdaEHQmzjMSf8-o.jpg': '2',\n '9957_q080dh27xsThDhQy92nW-o.jpg': '1',\n '9958_q080ri6icqHvrs575GnJ-o.jpg': '1',\n '9959_q080sl8ea6I580CNSa5g-o.jpg': '1',\n '9960_q080wm9z2DPWbwEn9tT-o.jpg': '0',\n '9961_q0844nhxfq49Bxsnjw9-o.jpg': '9',\n '9962_q086i36r1jT67Gehtd7p-o.jpg': '9',\n '9963_q086i371tfV9pq51OKn2-o.jpg': '8',\n '9964_q086i3883aUcQ4idi5tx-o.jpg': '9',\n '9965_q086i47rfVeKY6jCWDt-o.jpg': '9',\n '9966_q086i499jnIw1xxt5A5Q-o.jpg': '7',\n '9967_q086i4mbkuFfGhnSCN0-o.jpg': '9',\n '9968_q086i4x3cG5hZLyG34W-o.jpg': '8',\n '9969_q086i4xsiwqEcEYgF6f-o.jpg': '9',\n '9970_q086i57f98CSBq7F3UdF-o.jpg': '9',\n '9971_q086i5i020njcNFLOmE-o.jpg': '8',\n '9972_q086i6pew0C272s06jl-o.jpg': '6',\n '9973_q087yv6idldG1cusYSt9-o.jpg': '5',\n '9974_q087yx6ie21INM2IzsCc-o.jpg': '8',\n '9975_q087z59pfhjevywQGj1G-o.jpg': '6',\n '9976_q087zf71t10cJQO5bMDf-o.jpg': '6',\n '9977_q087zh9mnMZ5e510oEN-o.jpg': '4',\n '9978_q087ztxt7oBoRM0zx7F-o.jpg': '9',\n '9979_q087zz18y9xNx3g2bXX1-o.jpg': '8',\n '9980_q08804bvmAnc61AgF32-o.jpg': '9',\n '9981_q0880apfcjkYc7aIQpi-o.jpg': '8',\n '9982_q0880b2v8am55UNEk7q-o.jpg': '8',\n '9983_q0880he7ja2vD2R59df-o.jpg': '9',\n '9984_q0880lajmsjyB1xLBdo-o.jpg': '8',\n '9985_q088b41fc7B7v4muBteb-o.jpg': '5',\n '9986_q088b49pglpNGdVg5LMO-o.jpg': '8',\n '9987_q088br4y4dFKW1LOyLB-o.jpg': '8',\n '9988_q088dkbpt9sy7l5ObtA-o.jpg': '7',\n '9989_q088i2bopdVvmwa5TRc-o.jpg': '3',\n '9990_q088i3bxe1J15aHZMsj-o.jpg': '3',\n '9991_q088i678izxbQC7yDl6X-o.jpg': '4',\n '9992_q088i89pdWVbon5E0BM-o.jpg': '7',\n '9993_q088iai1bcDpWshvEsm-o.jpg': '8',\n '9994_q088ibgty5aJGfSdKU1-o.jpg': '9',\n '9995_q088ic8n4moBtgJWoYfs-o.jpg': '8',\n '9996_q088ifbwsoU1Dw6uQws-o.jpg': '9',\n '9997_q088igpdoMwsv5dOKIU-o.jpg': '8',\n '9998_q088iitqopvJgLcsK4x-o.jpg': '7',\n '9999_q088ikjqtKOybCFt9Uz-o.jpg': '9'}\n"
    }
   ],
   "source": [
    "pprint.pprint(scoresList)"
   ]
  },
  {
   "cell_type": "code",
   "execution_count": 26,
   "metadata": {},
   "outputs": [
    {
     "name": "stdout",
     "output_type": "stream",
     "text": "aset/images/9810_q06qm48om7euuU5jKbgJ-o.jpg ----- ./blueplanet_dataset/images/category/5/\n./blueplanet_dataset/images/9811_q06qmrbx8lkMUKLovEC-o.jpg ----- ./blueplanet_dataset/images/category/9/\n./blueplanet_dataset/images/9812_q06qne8onoiS4THlFsCH-o.jpg ----- ./blueplanet_dataset/images/category/8/\n./blueplanet_dataset/images/9813_q06qo7753xKMmBSh3UaN-o.jpg ----- ./blueplanet_dataset/images/category/7/\n./blueplanet_dataset/images/9814_q06qpw7qjpSNFSloTNfN-o.jpg ----- ./blueplanet_dataset/images/category/9/\n./blueplanet_dataset/images/9815_q06qqfku1Ogpy839nwS-o.jpg ----- ./blueplanet_dataset/images/category/1/\n./blueplanet_dataset/images/9816_q06qqkakb12ChlOuAyR-o.jpg ----- ./blueplanet_dataset/images/category/9/\n./blueplanet_dataset/images/9817_q06qr5j1ytt5jF7g2Z3-o.jpg ----- ./blueplanet_dataset/images/category/8/\n./blueplanet_dataset/images/9818_q06qt0xr37f7xxD31Q0-o.jpg ----- ./blueplanet_dataset/images/category/6/\n./blueplanet_dataset/images/9819_q06qtixpxtz5xOj4sMg-o.jpg ----- ./blueplanet_dataset/images/category/8/\n./blueplanet_dataset/images/9820_q06qtjpf5jYWeyRD5D5-o.jpg ----- ./blueplanet_dataset/images/category/7/\n./blueplanet_dataset/images/9821_q06quj7546sT5dDrx7hQ-o.jpg ----- ./blueplanet_dataset/images/category/8/\n./blueplanet_dataset/images/9822_q06qujajnNR4m5vOXPj-o.jpg ----- ./blueplanet_dataset/images/category/9/\n./blueplanet_dataset/images/9823_q06qujxqgnFc5H77ue0-o.jpg ----- ./blueplanet_dataset/images/category/9/\n./blueplanet_dataset/images/9824_q06qvk754uuFMvw983LX-o.jpg ----- ./blueplanet_dataset/images/category/8/\n./blueplanet_dataset/images/9825_q06qvk8ommZ2P2QC4Tqt-o.jpg ----- ./blueplanet_dataset/images/category/9/\n./blueplanet_dataset/images/9826_q06qvkhycqyRICPYDg5-o.jpg ----- ./blueplanet_dataset/images/category/8/\n./blueplanet_dataset/images/9827_q06r1sbjhhl4ptXvHUx-o.jpg ----- ./blueplanet_dataset/images/category/9/\n./blueplanet_dataset/images/9828_q06r3i6jarIrk9723dF-o.jpg ----- ./blueplanet_dataset/images/category/8/\n./blueplanet_dataset/images/9829_q06r4j7ri14PtBGWyLM-o.jpg ----- ./blueplanet_dataset/images/category/9/\n./blueplanet_dataset/images/9830_q06r5d7ri0PmhSYLxjx-o.jpg ----- ./blueplanet_dataset/images/category/9/\n./blueplanet_dataset/images/9831_q06r5x9qj3YQLg49ZuT-o.jpg ----- ./blueplanet_dataset/images/category/9/\n./blueplanet_dataset/images/9832_q06r6lztoRM3BAQ2MZT-o.jpg ----- ./blueplanet_dataset/images/category/8/\n./blueplanet_dataset/images/9833_q06r8fairHvhdD1Lo0c-o.jpg ----- ./blueplanet_dataset/images/category/9/\n./blueplanet_dataset/images/9834_q06r8v6len7Kcpvybinq-o.jpg ----- ./blueplanet_dataset/images/category/0/\n./blueplanet_dataset/images/9835_q06r99hz3FMqw5Nkynj-o.jpg ----- ./blueplanet_dataset/images/category/7/\n./blueplanet_dataset/images/9836_q06r9y6leda9BRqL8jvA-o.jpg ----- ./blueplanet_dataset/images/category/8/\n./blueplanet_dataset/images/9837_q06ram754924FRP8ngyH-o.jpg ----- ./blueplanet_dataset/images/category/9/\n./blueplanet_dataset/images/9838_q06rdca9i28HJN07pad-o.jpg ----- ./blueplanet_dataset/images/category/9/\n./blueplanet_dataset/images/9839_q06re5butMMllkmBcI2-o.jpg ----- ./blueplanet_dataset/images/category/9/\n./blueplanet_dataset/images/9840_q06rf28omyybvg1Ay1la-o.jpg ----- ./blueplanet_dataset/images/category/7/\n./blueplanet_dataset/images/9841_q06rll6lffJoBHh1LXws-o.jpg ----- ./blueplanet_dataset/images/category/0/\n./blueplanet_dataset/images/9842_q06rrgbumKSkuSF3jOf-o.jpg ----- ./blueplanet_dataset/images/category/5/\n./blueplanet_dataset/images/9843_q06rszbu6cvm1Xp7it7-o.jpg ----- ./blueplanet_dataset/images/category/9/\n./blueplanet_dataset/images/9844_q06rta7556S3spay87Tu-o.jpg ----- ./blueplanet_dataset/images/category/8/\n./blueplanet_dataset/images/9845_q06rxzbusdC7ynwTuFj-o.jpg ----- ./blueplanet_dataset/images/category/8/\n./blueplanet_dataset/images/9846_q06s1t6lf6cYco4SP5Am-o.jpg ----- ./blueplanet_dataset/images/category/9/\n./blueplanet_dataset/images/9847_q06s24h13iGkGYNkxl5-o.jpg ----- ./blueplanet_dataset/images/category/6/\n./blueplanet_dataset/images/9848_q06s7ubudmZvAm1ubnA-o.jpg ----- ./blueplanet_dataset/images/category/6/\n./blueplanet_dataset/images/9849_q06s9j9r79j1e1WtZcC-o.jpg ----- ./blueplanet_dataset/images/category/6/\n./blueplanet_dataset/images/9850_q06sduaktofVxT8kCvy-o.jpg ----- ./blueplanet_dataset/images/category/3/\n./blueplanet_dataset/images/9851_q06seh9nz6294HFQsFe-o.jpg ----- ./blueplanet_dataset/images/category/4/\n./blueplanet_dataset/images/9852_q06sigxs9iPerW2Wt6k-o.jpg ----- ./blueplanet_dataset/images/category/1/\n./blueplanet_dataset/images/9853_q06sm1ai9A3b3bDUeU2-o.jpg ----- ./blueplanet_dataset/images/category/3/\n./blueplanet_dataset/images/9854_q06tl7akgIn69bfsnNK-o.jpg ----- ./blueplanet_dataset/images/category/8/\n./blueplanet_dataset/images/9855_q06tm47547ApaTKFW8kh-o.jpg ----- ./blueplanet_dataset/images/category/4/\n./blueplanet_dataset/images/9856_q06txz8omlORdea7J8In-o.jpg ----- ./blueplanet_dataset/images/category/9/\n./blueplanet_dataset/images/9857_q06u0ebv42N4hj6q7Y1-o.jpg ----- ./blueplanet_dataset/images/category/7/\n./blueplanet_dataset/images/9858_q06u3u6ylk0t1vSx95Jd-o.jpg ----- ./blueplanet_dataset/images/category/3/\n./blueplanet_dataset/images/9859_q06uc86lezJqy2OT32HZ-o.jpg ----- ./blueplanet_dataset/images/category/2/\n./blueplanet_dataset/images/9860_q06uds6jkW0B5zDdWEw-o.jpg ----- ./blueplanet_dataset/images/category/9/\n./blueplanet_dataset/images/9861_q06uf1l6vN3epmlhINl-o.jpg ----- ./blueplanet_dataset/images/category/0/\n./blueplanet_dataset/images/9862_q06wwmajjAn1PGvYO4C-o.jpg ----- ./blueplanet_dataset/images/category/1/\n./blueplanet_dataset/images/9863_q06x627555fnG5IPHc7L-o.jpg ----- ./blueplanet_dataset/images/category/3/\n./blueplanet_dataset/images/9864_q06x629qgv6NKt39AQ1-o.jpg ----- ./blueplanet_dataset/images/category/3/\n./blueplanet_dataset/images/9865_q06x62pdtsWreLvamaR-o.jpg ----- ./blueplanet_dataset/images/category/3/\n./blueplanet_dataset/images/9866_q06x6a1fkd93ZO5U3457-o.jpg ----- ./blueplanet_dataset/images/category/4/\n./blueplanet_dataset/images/9867_q06x6a9qrz69FWZS6ZN-o.jpg ----- ./blueplanet_dataset/images/category/3/\n./blueplanet_dataset/images/9868_q06x6a9s6jrEt4ITqZXG-o.jpg ----- ./blueplanet_dataset/images/category/3/\n./blueplanet_dataset/images/9869_q06x6am1f3hV5t87f1s-o.jpg ----- ./blueplanet_dataset/images/category/5/\n./blueplanet_dataset/images/9870_q06x6b8bd8Nzdk0p62jF-o.jpg ----- ./blueplanet_dataset/images/category/6/\n./blueplanet_dataset/images/9871_q06x6bcykKBcW5moogn-o.jpg ----- ./blueplanet_dataset/images/category/7/\n./blueplanet_dataset/images/9872_q06x8b7549pPxE1FleiN-o.jpg ----- ./blueplanet_dataset/images/category/3/\n./blueplanet_dataset/images/9873_q06x8b755lNd4sH3PdZg-o.jpg ----- ./blueplanet_dataset/images/category/3/\n./blueplanet_dataset/images/9874_q06x8b9ahs4evjBQgt71-o.jpg ----- ./blueplanet_dataset/images/category/6/\n./blueplanet_dataset/images/9875_q06x8bais9xoUZ6lX5k-o.jpg ----- ./blueplanet_dataset/images/category/7/\n./blueplanet_dataset/images/9876_q06x8bamomEWaxci1U9-o.jpg ----- ./blueplanet_dataset/images/category/2/\n./blueplanet_dataset/images/9877_q06x8bbu9dJPwPn2IY4-o.jpg ----- ./blueplanet_dataset/images/category/5/\n./blueplanet_dataset/images/9878_q06x8bi1bc4OHcsuT73-o.jpg ----- ./blueplanet_dataset/images/category/6/\n./blueplanet_dataset/images/9879_q06x8bpf6uG1nKSVed7-o.jpg ----- ./blueplanet_dataset/images/category/5/\n./blueplanet_dataset/images/9880_q07t511dmiit4KSoac5-o.jpg ----- ./blueplanet_dataset/images/category/9/\n./blueplanet_dataset/images/9881_q07t52akcrD5sfkEi9d-o.jpg ----- ./blueplanet_dataset/images/category/8/\n./blueplanet_dataset/images/9882_q07t52bx0Le12IS4Ojn-o.jpg ----- ./blueplanet_dataset/images/category/8/\n./blueplanet_dataset/images/9883_q07t52hz6MYJS8mT38x-o.jpg ----- ./blueplanet_dataset/images/category/8/\n./blueplanet_dataset/images/9884_q07t52uy4mZXb624fh4-o.jpg ----- ./blueplanet_dataset/images/category/7/\n./blueplanet_dataset/images/9885_q07tg1alp0Kp1Na4DTq-o.jpg ----- ./blueplanet_dataset/images/category/8/\n./blueplanet_dataset/images/9886_q07tmmd1hsDhrRF5P7l-o.jpg ----- ./blueplanet_dataset/images/category/7/\n./blueplanet_dataset/images/9887_q07toe7re1LX1AX3vZe-o.jpg ----- ./blueplanet_dataset/images/category/9/\n./blueplanet_dataset/images/9888_q07toe9qjjCF718F5Y8-o.jpg ----- ./blueplanet_dataset/images/category/9/\n./blueplanet_dataset/images/9889_q07trgi04N7EnydzK75-o.jpg ----- ./blueplanet_dataset/images/category/7/\n./blueplanet_dataset/images/9890_q07trgpd2vc21iT7KNs-o.jpg ----- ./blueplanet_dataset/images/category/8/\n./blueplanet_dataset/images/9891_q07tx22r6wUVqcaWPl7j-o.jpg ----- ./blueplanet_dataset/images/category/3/\n./blueplanet_dataset/images/9892_q07tx275570Qd8c3WYzK-o.jpg ----- ./blueplanet_dataset/images/category/2/\n./blueplanet_dataset/images/9893_q07tx2hzuFscCSCMTD2-o.jpg ----- ./blueplanet_dataset/images/category/3/\n./blueplanet_dataset/images/9894_q07uhv8on18nw6dlwC4w-o.jpg ----- ./blueplanet_dataset/images/category/9/\n./blueplanet_dataset/images/9895_q07v55ai7Sg4x0FdUjK-o.jpg ----- ./blueplanet_dataset/images/category/9/\n./blueplanet_dataset/images/9896_q07v651k9oJcoWLG5T2V-o.jpg ----- ./blueplanet_dataset/images/category/7/\n./blueplanet_dataset/images/9897_q07vnv8uysV29vnSHjq7-o.jpg ----- ./blueplanet_dataset/images/category/4/\n./blueplanet_dataset/images/9898_q07vnvqunSYRrvIcbI6-o.jpg ----- ./blueplanet_dataset/images/category/6/\n./blueplanet_dataset/images/9899_q07voa1ouavNfcGzxtrO-o.jpg ----- ./blueplanet_dataset/images/category/3/\n./blueplanet_dataset/images/9900_q07voa928az9j2FlyWY8-o.jpg ----- ./blueplanet_dataset/images/category/9/\n./blueplanet_dataset/images/9901_q07voxhy2jtZER1P8do-o.jpg ----- ./blueplanet_dataset/images/category/8/\n./blueplanet_dataset/images/9902_q07vpd1k9lSJKi8N8Pkp-o.jpg ----- ./blueplanet_dataset/images/category/8/\n./blueplanet_dataset/images/9903_q07vpd9nyQMpghiFhNF-o.jpg ----- ./blueplanet_dataset/images/category/8/\n./blueplanet_dataset/images/9904_q07vpdpffC7MyxRruay-o.jpg ----- ./blueplanet_dataset/images/category/8/\n./blueplanet_dataset/images/9905_q07vpw15f1MSOrExkjSX-o.jpg ----- ./blueplanet_dataset/images/category/9/\n./blueplanet_dataset/images/9906_q07vqjahy3lHwbTZQVC-o.jpg ----- ./blueplanet_dataset/images/category/7/\n./blueplanet_dataset/images/9907_q07vqjbv3xmb7B0iP7h-o.jpg ----- ./blueplanet_dataset/images/category/7/\n./blueplanet_dataset/images/9908_q07vqjpfeHhk70gf9J5-o.jpg ----- ./blueplanet_dataset/images/category/7/\n./blueplanet_dataset/images/9909_q07vqwhzlgjejVgR3Y9-o.jpg ----- ./blueplanet_dataset/images/category/8/\n./blueplanet_dataset/images/9910_q07vqwku1txy8WrBIMw-o.jpg ----- ./blueplanet_dataset/images/category/5/\n./blueplanet_dataset/images/9911_q07vrr9eqwMp418jOkIu-o.jpg ----- ./blueplanet_dataset/images/category/8/\n./blueplanet_dataset/images/9912_q07vrri03v1CSoPhG6o-o.jpg ----- ./blueplanet_dataset/images/category/9/\n./blueplanet_dataset/images/9913_q07vrrxrvBItw53mr3Y-o.jpg ----- ./blueplanet_dataset/images/category/9/\n./blueplanet_dataset/images/9914_q07vwp2hju0Mlu8DiVnW-o.jpg ----- ./blueplanet_dataset/images/category/0/\n./blueplanet_dataset/images/9915_q07wea9ahno6Je5EcUuB-o.jpg ----- ./blueplanet_dataset/images/category/1/\n./blueplanet_dataset/images/9916_q07whl72rcRlSuaw2I2e-o.jpg ----- ./blueplanet_dataset/images/category/7/\n./blueplanet_dataset/images/9917_q07whlhyi6acGRJK7GF-o.jpg ----- ./blueplanet_dataset/images/category/9/\n./blueplanet_dataset/images/9918_q07x0m1fkk6WUdTQ7G3O-o.jpg ----- ./blueplanet_dataset/images/category/4/\n./blueplanet_dataset/images/9919_q07xha1dnQq4sgJrUMC-o.jpg ----- ./blueplanet_dataset/images/category/8/\n./blueplanet_dataset/images/9920_q07xhakxnna5c56Qc2B-o.jpg ----- ./blueplanet_dataset/images/category/6/\n./blueplanet_dataset/images/9921_q07xpzxuwjJ8jz8kGP0-o.jpg ----- ./blueplanet_dataset/images/category/2/\n./blueplanet_dataset/images/9922_q07xq92mdkHXWj7nFECx-o.jpg ----- ./blueplanet_dataset/images/category/0/\n./blueplanet_dataset/images/9923_q07xsior1sX54J9Q0VZ-o.jpg ----- ./blueplanet_dataset/images/category/2/\n./blueplanet_dataset/images/9924_q07yma4qpzO3WBUqTG5-o.jpg ----- ./blueplanet_dataset/images/category/0/\n./blueplanet_dataset/images/9925_q07ywa7550gAfHXgpFjO-o.jpg ----- ./blueplanet_dataset/images/category/7/\n./blueplanet_dataset/images/9926_q07ywaam99OKNeIVJfn-o.jpg ----- ./blueplanet_dataset/images/category/4/\n./blueplanet_dataset/images/9927_q07ywapdnt6ZmWFqT3k-o.jpg ----- ./blueplanet_dataset/images/category/5/\n./blueplanet_dataset/images/9928_q07yyebx1ylNjZOWwXp-o.jpg ----- ./blueplanet_dataset/images/category/0/\n./blueplanet_dataset/images/9929_q07yyeji7dJMdKgKGk6-o.jpg ----- ./blueplanet_dataset/images/category/0/\n./blueplanet_dataset/images/9930_q07z2huy91uTdOG623J-o.jpg ----- ./blueplanet_dataset/images/category/0/\n./blueplanet_dataset/images/9931_q07zuj8ebg9jCA2Vg21v-o.jpg ----- ./blueplanet_dataset/images/category/8/\n./blueplanet_dataset/images/9932_q07zuji0xVrhKTiTTo2-o.jpg ----- ./blueplanet_dataset/images/category/6/\n./blueplanet_dataset/images/9933_q07zujpewwxC2ueospa-o.jpg ----- ./blueplanet_dataset/images/category/6/\n./blueplanet_dataset/images/9934_q07zujxrbQUHuKtHqEk-o.jpg ----- ./blueplanet_dataset/images/category/7/\n./blueplanet_dataset/images/9935_q07zuk147vu5JbfMpa7J-o.jpg ----- ./blueplanet_dataset/images/category/6/\n./blueplanet_dataset/images/9936_q07zuk21fcNZlAYp7ol-o.jpg ----- ./blueplanet_dataset/images/category/8/\n./blueplanet_dataset/images/9937_q07zuk81bzT7KaVJFqZz-o.jpg ----- ./blueplanet_dataset/images/category/9/\n./blueplanet_dataset/images/9938_q07zuk87qhVhZBWvEvBi-o.jpg ----- ./blueplanet_dataset/images/category/9/\n./blueplanet_dataset/images/9939_q07zuk8eb2wup5BkXuqK-o.jpg ----- ./blueplanet_dataset/images/category/8/\n./blueplanet_dataset/images/9940_q07zuk9p28nzJcv1F8x-o.jpg ----- ./blueplanet_dataset/images/category/8/\n./blueplanet_dataset/images/9941_q07zukaklm8IJXTgaQq-o.jpg ----- ./blueplanet_dataset/images/category/8/\n./blueplanet_dataset/images/9942_q07zuki0qLSHWjCP2lU-o.jpg ----- ./blueplanet_dataset/images/category/9/\n./blueplanet_dataset/images/9943_q07zuki0zi9uosMcbAR-o.jpg ----- ./blueplanet_dataset/images/category/9/\n./blueplanet_dataset/images/9944_q07zukl6vQ9BzzonHM3-o.jpg ----- ./blueplanet_dataset/images/category/8/\n./blueplanet_dataset/images/9945_q07zukxrhnB84hbo6ko-o.jpg ----- ./blueplanet_dataset/images/category/9/\n./blueplanet_dataset/images/9946_q0800o309uK4hjxZ7pZJ-o.jpg ----- ./blueplanet_dataset/images/category/9/\n./blueplanet_dataset/images/9947_q0800oai9FJm7YiSf1l-o.jpg ----- ./blueplanet_dataset/images/category/8/\n./blueplanet_dataset/images/9948_q0800opfcBY3E4W14zt-o.jpg ----- ./blueplanet_dataset/images/category/3/\n./blueplanet_dataset/images/9949_q0800p1u81ib1kFlzYIz-o.jpg ----- ./blueplanet_dataset/images/category/7/\n./blueplanet_dataset/images/9950_q0800p6ie2ZveCp898aX-o.jpg ----- ./blueplanet_dataset/images/category/8/\n./blueplanet_dataset/images/9951_q0800p9ooVV2pQI8RhA-o.jpg ----- ./blueplanet_dataset/images/category/6/\n./blueplanet_dataset/images/9952_q0800p9rmXQQYXg2ZdI-o.jpg ----- ./blueplanet_dataset/images/category/8/\n./blueplanet_dataset/images/9953_q0800pbv2ymd4oqX8E8-o.jpg ----- ./blueplanet_dataset/images/category/4/\n./blueplanet_dataset/images/9954_q0800phybGskdGM5llr-o.jpg ----- ./blueplanet_dataset/images/category/4/\n./blueplanet_dataset/images/9955_q0800pxtwbjsuY8iKSb-o.jpg ----- ./blueplanet_dataset/images/category/7/\n./blueplanet_dataset/images/9956_q0802zpdaEHQmzjMSf8-o.jpg ----- ./blueplanet_dataset/images/category/2/\n./blueplanet_dataset/images/9957_q080dh27xsThDhQy92nW-o.jpg ----- ./blueplanet_dataset/images/category/1/\n./blueplanet_dataset/images/9958_q080ri6icqHvrs575GnJ-o.jpg ----- ./blueplanet_dataset/images/category/1/\n./blueplanet_dataset/images/9959_q080sl8ea6I580CNSa5g-o.jpg ----- ./blueplanet_dataset/images/category/1/\n./blueplanet_dataset/images/9960_q080wm9z2DPWbwEn9tT-o.jpg ----- ./blueplanet_dataset/images/category/0/\n./blueplanet_dataset/images/9961_q0844nhxfq49Bxsnjw9-o.jpg ----- ./blueplanet_dataset/images/category/9/\n./blueplanet_dataset/images/9962_q086i36r1jT67Gehtd7p-o.jpg ----- ./blueplanet_dataset/images/category/9/\n./blueplanet_dataset/images/9963_q086i371tfV9pq51OKn2-o.jpg ----- ./blueplanet_dataset/images/category/8/\n./blueplanet_dataset/images/9964_q086i3883aUcQ4idi5tx-o.jpg ----- ./blueplanet_dataset/images/category/9/\n./blueplanet_dataset/images/9965_q086i47rfVeKY6jCWDt-o.jpg ----- ./blueplanet_dataset/images/category/9/\n./blueplanet_dataset/images/9966_q086i499jnIw1xxt5A5Q-o.jpg ----- ./blueplanet_dataset/images/category/7/\n./blueplanet_dataset/images/9967_q086i4mbkuFfGhnSCN0-o.jpg ----- ./blueplanet_dataset/images/category/9/\n./blueplanet_dataset/images/9968_q086i4x3cG5hZLyG34W-o.jpg ----- ./blueplanet_dataset/images/category/8/\n./blueplanet_dataset/images/9969_q086i4xsiwqEcEYgF6f-o.jpg ----- ./blueplanet_dataset/images/category/9/\n./blueplanet_dataset/images/9970_q086i57f98CSBq7F3UdF-o.jpg ----- ./blueplanet_dataset/images/category/9/\n./blueplanet_dataset/images/9971_q086i5i020njcNFLOmE-o.jpg ----- ./blueplanet_dataset/images/category/8/\n./blueplanet_dataset/images/9972_q086i6pew0C272s06jl-o.jpg ----- ./blueplanet_dataset/images/category/6/\n./blueplanet_dataset/images/9973_q087yv6idldG1cusYSt9-o.jpg ----- ./blueplanet_dataset/images/category/5/\n./blueplanet_dataset/images/9974_q087yx6ie21INM2IzsCc-o.jpg ----- ./blueplanet_dataset/images/category/8/\n./blueplanet_dataset/images/9975_q087z59pfhjevywQGj1G-o.jpg ----- ./blueplanet_dataset/images/category/6/\n./blueplanet_dataset/images/9976_q087zf71t10cJQO5bMDf-o.jpg ----- ./blueplanet_dataset/images/category/6/\n./blueplanet_dataset/images/9977_q087zh9mnMZ5e510oEN-o.jpg ----- ./blueplanet_dataset/images/category/4/\n./blueplanet_dataset/images/9978_q087ztxt7oBoRM0zx7F-o.jpg ----- ./blueplanet_dataset/images/category/9/\n./blueplanet_dataset/images/9979_q087zz18y9xNx3g2bXX1-o.jpg ----- ./blueplanet_dataset/images/category/8/\n./blueplanet_dataset/images/9980_q08804bvmAnc61AgF32-o.jpg ----- ./blueplanet_dataset/images/category/9/\n./blueplanet_dataset/images/9981_q0880apfcjkYc7aIQpi-o.jpg ----- ./blueplanet_dataset/images/category/8/\n./blueplanet_dataset/images/9982_q0880b2v8am55UNEk7q-o.jpg ----- ./blueplanet_dataset/images/category/8/\n./blueplanet_dataset/images/9983_q0880he7ja2vD2R59df-o.jpg ----- ./blueplanet_dataset/images/category/9/\n./blueplanet_dataset/images/9984_q0880lajmsjyB1xLBdo-o.jpg ----- ./blueplanet_dataset/images/category/8/\n./blueplanet_dataset/images/9985_q088b41fc7B7v4muBteb-o.jpg ----- ./blueplanet_dataset/images/category/5/\n./blueplanet_dataset/images/9986_q088b49pglpNGdVg5LMO-o.jpg ----- ./blueplanet_dataset/images/category/8/\n./blueplanet_dataset/images/9987_q088br4y4dFKW1LOyLB-o.jpg ----- ./blueplanet_dataset/images/category/8/\n./blueplanet_dataset/images/9988_q088dkbpt9sy7l5ObtA-o.jpg ----- ./blueplanet_dataset/images/category/7/\n./blueplanet_dataset/images/9989_q088i2bopdVvmwa5TRc-o.jpg ----- ./blueplanet_dataset/images/category/3/\n./blueplanet_dataset/images/9990_q088i3bxe1J15aHZMsj-o.jpg ----- ./blueplanet_dataset/images/category/3/\n./blueplanet_dataset/images/9991_q088i678izxbQC7yDl6X-o.jpg ----- ./blueplanet_dataset/images/category/4/\n./blueplanet_dataset/images/9992_q088i89pdWVbon5E0BM-o.jpg ----- ./blueplanet_dataset/images/category/7/\n./blueplanet_dataset/images/9993_q088iai1bcDpWshvEsm-o.jpg ----- ./blueplanet_dataset/images/category/8/\n./blueplanet_dataset/images/9994_q088ibgty5aJGfSdKU1-o.jpg ----- ./blueplanet_dataset/images/category/9/\n./blueplanet_dataset/images/9995_q088ic8n4moBtgJWoYfs-o.jpg ----- ./blueplanet_dataset/images/category/8/\n./blueplanet_dataset/images/9996_q088ifbwsoU1Dw6uQws-o.jpg ----- ./blueplanet_dataset/images/category/9/\n./blueplanet_dataset/images/9997_q088igpdoMwsv5dOKIU-o.jpg ----- ./blueplanet_dataset/images/category/8/\n./blueplanet_dataset/images/9998_q088iitqopvJgLcsK4x-o.jpg ----- ./blueplanet_dataset/images/category/7/\n./blueplanet_dataset/images/9999_q088ikjqtKOybCFt9Uz-o.jpg ----- ./blueplanet_dataset/images/category/9/\n"
    }
   ],
   "source": [
    "# create categories - execute once\n",
    "import shutil\n",
    "\n",
    "categoryDir = './blueplanet_dataset/images/category/train/'\n",
    "imgDir = './blueplanet_dataset/images/'\n",
    "if not os.path.exists(categoryPath):\n",
    "    os.makedirs(categoryPath)\n",
    "\n",
    "for imgName, score in scoresList.items():\n",
    "    catPath = categoryDir + score + '/'\n",
    "    imgPath = imgDir + imgName\n",
    "    print(imgPath, '-----', catPath)\n",
    "    if not os.path.exists(catPath):\n",
    "        os.makedirs(catPath)\n",
    "    shutil.copy2(imgPath, catPath)"
   ]
  },
  {
   "cell_type": "markdown",
   "execution_count": null,
   "metadata": {},
   "outputs": [],
   "source": [
    "### Create Model"
   ]
  },
  {
   "cell_type": "code",
   "execution_count": 39,
   "metadata": {},
   "outputs": [],
   "source": [
    "from tensorflow.python.keras.applications import ResNet50\n",
    "from tensorflow.python.keras.models import Sequential\n",
    "from tensorflow.python.keras.layers import Dense, Flatten, GlobalAveragePooling2D\n",
    "import os\n",
    "\n",
    "\n",
    "weights_path = './blue-planet-pantip-analytics/python/image_pro/resnet50/resnet50_weights_tf_dim_ordering_tf_kernels_notop.h5'\n",
    "\n",
    "resnetModel = Sequential()\n",
    "resnetModel.add(ResNet50(include_top=False, pooling='avg', weights=weights_path ))"
   ]
  },
  {
   "cell_type": "code",
   "execution_count": 40,
   "metadata": {},
   "outputs": [],
   "source": [
    "num_classes = 10\n",
    "resnetModel.add(Dense(num_classes, activation='softmax'))\n",
    "\n",
    "# Say not to train first layer (ResNet) model. It is already trained\n",
    "resnetModel.layers[0].trainable = False"
   ]
  },
  {
   "cell_type": "code",
   "execution_count": 43,
   "metadata": {},
   "outputs": [],
   "source": [
    "resnetModel.compile(optimizer='sgd', loss='categorical_crossentropy', metrics=['accuracy'])"
   ]
  },
  {
   "cell_type": "code",
   "execution_count": 44,
   "metadata": {},
   "outputs": [
    {
     "name": "stdout",
     "output_type": "stream",
     "text": "Found 5203 images belonging to 10 classes.\nFound 547 images belonging to 10 classes.\nEpoch 1/5\n 1/20 [>.............................] - ETA: 41:50 - loss: 2.9338 - acc: 0.0898C:\\Users\\Vittunyuta\\AppData\\Local\\Programs\\Python\\Python36\\lib\\site-packages\\PIL\\Image.py:989: UserWarning: Palette images with Transparency expressed in bytes should be converted to RGBA images\n  \"Palette images with Transparency expressed in bytes should be \"\n20/20 [==============================] - 1709s 85s/step - loss: 2.3700 - acc: 0.1767 - val_loss: 2.3786 - val_acc: 0.2031\nEpoch 2/5\n20/20 [==============================] - 1602s 80s/step - loss: 2.0934 - acc: 0.2549 - val_loss: 2.1960 - val_acc: 0.2500\nEpoch 3/5\n20/20 [==============================] - 1610s 80s/step - loss: 1.9898 - acc: 0.2747 - val_loss: 2.1510 - val_acc: 0.2344\nEpoch 4/5\n20/20 [==============================] - 1581s 79s/step - loss: 1.9379 - acc: 0.2933 - val_loss: 2.1201 - val_acc: 0.2031\nEpoch 5/5\n20/20 [==============================] - 1690s 85s/step - loss: 1.8881 - acc: 0.3036 - val_loss: 2.0580 - val_acc: 0.2500\n"
    },
    {
     "data": {
      "text/plain": "<tensorflow.python.keras.callbacks.History at 0x23e598052b0>"
     },
     "execution_count": 44,
     "metadata": {},
     "output_type": "execute_result"
    }
   ],
   "source": [
    "from tensorflow.python.keras.applications.resnet50 import preprocess_input\n",
    "from tensorflow.python.keras.preprocessing.image import ImageDataGenerator\n",
    "import PIL\n",
    "\n",
    "image_size = 224\n",
    "trainDir = './blueplanet_dataset/images/category/train/'\n",
    "valDir = './blueplanet_dataset/images/category/val/'\n",
    "EPOCH = 5\n",
    "BATCH_SIZE = 256\n",
    "data_generator = ImageDataGenerator(preprocessing_function=preprocess_input)\n",
    "\n",
    "\n",
    "train_generator = data_generator.flow_from_directory(\n",
    "        trainDir,\n",
    "        target_size=(image_size, image_size),\n",
    "        batch_size=BATCH_SIZE,\n",
    "        class_mode='categorical')\n",
    "\n",
    "validation_generator = data_generator.flow_from_directory(\n",
    "        valDir,\n",
    "        target_size=(image_size, image_size),\n",
    "        class_mode='categorical')\n",
    "\n",
    "resnetModel.fit_generator(\n",
    "        generator=train_generator,\n",
    "        steps_per_epoch=train_generator.n//BATCH_SIZE,\n",
    "        epochs=EPOCH,\n",
    "        validation_data=validation_generator,\n",
    "        validation_steps=validation_generator.n//BATCH_SIZE)"
   ]
  },
  {
   "cell_type": "markdown",
   "execution_count": null,
   "metadata": {},
   "outputs": [],
   "source": [
    "#### Save model"
   ]
  },
  {
   "cell_type": "code",
   "execution_count": 49,
   "metadata": {},
   "outputs": [
    {
     "name": "stdout",
     "output_type": "stream",
     "text": "None\n"
    }
   ],
   "source": [
    "SAVED_MODEL_DIR = './blue-planet-pantip-analytics/python/image_pro/saved_model/'\n",
    "MODEL_NAME = 'scoresClassificationE5.hdf5'\n",
    "log = resnetModel.save(SAVED_MODEL_DIR+MODEL_NAME)\n",
    "if log == None:\n",
    "    print('create file success')"
   ]
  },
  {
   "cell_type": "markdown",
   "execution_count": null,
   "metadata": {},
   "outputs": [],
   "source": [
    "#### Prediction"
   ]
  },
  {
   "cell_type": "code",
   "execution_count": 69,
   "metadata": {},
   "outputs": [
    {
     "ename": "TypeError",
     "evalue": "load_model() missing 1 required positional argument: 'filepath'",
     "output_type": "error",
     "traceback": [
      "\u001b[1;31m---------------------------------------------------------------------------\u001b[0m",
      "\u001b[1;31mTypeError\u001b[0m                                 Traceback (most recent call last)",
      "\u001b[1;32m<ipython-input-69-cbabe899d332>\u001b[0m in \u001b[0;36m<module>\u001b[1;34m\u001b[0m\n\u001b[0;32m      6\u001b[0m \u001b[1;33m\u001b[0m\u001b[0m\n\u001b[0;32m      7\u001b[0m \u001b[1;32mif\u001b[0m \u001b[0misfile\u001b[0m\u001b[1;33m(\u001b[0m\u001b[0mfilePath\u001b[0m\u001b[1;33m)\u001b[0m\u001b[1;33m:\u001b[0m\u001b[1;33m\u001b[0m\u001b[1;33m\u001b[0m\u001b[0m\n\u001b[1;32m----> 8\u001b[1;33m     \u001b[0mmodel\u001b[0m \u001b[1;33m=\u001b[0m \u001b[0mload_model\u001b[0m\u001b[1;33m(\u001b[0m\u001b[0mfilepath\u001b[0m\u001b[1;33m=\u001b[0m\u001b[0mfilePath\u001b[0m\u001b[1;33m)\u001b[0m\u001b[1;33m\u001b[0m\u001b[1;33m\u001b[0m\u001b[0m\n\u001b[0m\u001b[0;32m      9\u001b[0m     \u001b[0mmodel\u001b[0m\u001b[1;33m.\u001b[0m\u001b[0msummary\u001b[0m\u001b[1;33m(\u001b[0m\u001b[1;33m)\u001b[0m\u001b[1;33m\u001b[0m\u001b[1;33m\u001b[0m\u001b[0m\n\u001b[0;32m     10\u001b[0m \u001b[1;32melse\u001b[0m\u001b[1;33m:\u001b[0m\u001b[1;33m\u001b[0m\u001b[1;33m\u001b[0m\u001b[0m\n",
      "\u001b[1;32m~\\AppData\\Local\\Programs\\Python\\Python36\\lib\\site-packages\\keras\\engine\\saving.py\u001b[0m in \u001b[0;36mload_wrapper\u001b[1;34m(*args, **kwargs)\u001b[0m\n\u001b[0;32m    456\u001b[0m                 \u001b[0mos\u001b[0m\u001b[1;33m.\u001b[0m\u001b[0mremove\u001b[0m\u001b[1;33m(\u001b[0m\u001b[0mtmp_filepath\u001b[0m\u001b[1;33m)\u001b[0m\u001b[1;33m\u001b[0m\u001b[1;33m\u001b[0m\u001b[0m\n\u001b[0;32m    457\u001b[0m             \u001b[1;32mreturn\u001b[0m \u001b[0mres\u001b[0m\u001b[1;33m\u001b[0m\u001b[1;33m\u001b[0m\u001b[0m\n\u001b[1;32m--> 458\u001b[1;33m         \u001b[1;32mreturn\u001b[0m \u001b[0mload_function\u001b[0m\u001b[1;33m(\u001b[0m\u001b[1;33m*\u001b[0m\u001b[0margs\u001b[0m\u001b[1;33m,\u001b[0m \u001b[1;33m**\u001b[0m\u001b[0mkwargs\u001b[0m\u001b[1;33m)\u001b[0m\u001b[1;33m\u001b[0m\u001b[1;33m\u001b[0m\u001b[0m\n\u001b[0m\u001b[0;32m    459\u001b[0m \u001b[1;33m\u001b[0m\u001b[0m\n\u001b[0;32m    460\u001b[0m     \u001b[1;32mreturn\u001b[0m \u001b[0mload_wrapper\u001b[0m\u001b[1;33m\u001b[0m\u001b[1;33m\u001b[0m\u001b[0m\n",
      "\u001b[1;31mTypeError\u001b[0m: load_model() missing 1 required positional argument: 'filepath'"
     ]
    }
   ],
   "source": [
    "from keras.models import load_model\n",
    "\n",
    "MODEL_NAME = 'scoresClassificationE5.hdf5'\n",
    "path2savedModel = \"./blue-planet-pantip-analytics/python/image_pro/saved_model/\"\n",
    "filePath = path2savedModel + MODEL_NAME\n",
    "\n",
    "if isfile(filePath):\n",
    "    model = load_model(filepath=filePath)\n",
    "    model.summary()\n",
    "else:\n",
    "    raise Exception(\"--MODEL COULD NOT LOADED\")"
   ]
  },
  {
   "cell_type": "code",
   "execution_count": 56,
   "metadata": {},
   "outputs": [
    {
     "name": "stdout",
     "output_type": "stream",
     "text": "20\n[{'actual': 0,\n  'name': '9929_q07yyeji7dJMdKgKGk6-o.jpg',\n  'path': './blueplanet_dataset/images/category/train/0/9929_q07yyeji7dJMdKgKGk6-o.jpg'},\n {'actual': 0,\n  'name': '5514_pzzcudikdMIVH7tLEcG-o.jpg',\n  'path': './blueplanet_dataset/images/category/train/0/5514_pzzcudikdMIVH7tLEcG-o.jpg'},\n {'actual': 1,\n  'name': '1288_pztaqihl3SA38sxbz0V-o.jpg',\n  'path': './blueplanet_dataset/images/category/train/1/1288_pztaqihl3SA38sxbz0V-o.jpg'},\n {'actual': 1,\n  'name': '1447_pztd5jjbw4lmdCIyG1u-o.jpg',\n  'path': './blueplanet_dataset/images/category/train/1/1447_pztd5jjbw4lmdCIyG1u-o.jpg'},\n {'actual': 2,\n  'name': '9070_q04zi14s83e39cvhCHtv-o.jpg',\n  'path': './blueplanet_dataset/images/category/train/2/9070_q04zi14s83e39cvhCHtv-o.jpg'},\n {'actual': 2,\n  'name': '6021_q00rralwgwfWp7qbLSx-o.jpg',\n  'path': './blueplanet_dataset/images/category/train/2/6021_q00rralwgwfWp7qbLSx-o.jpg'},\n {'actual': 3,\n  'name': '9726_q06kp06lehIoW2kJyT9F-o.jpg',\n  'path': './blueplanet_dataset/images/category/train/3/9726_q06kp06lehIoW2kJyT9F-o.jpg'},\n {'actual': 3,\n  'name': '1844_pzttar10zt8uD7wq1k8s-o.jpg',\n  'path': './blueplanet_dataset/images/category/train/3/1844_pzttar10zt8uD7wq1k8s-o.jpg'},\n {'actual': 4,\n  'name': '2213_pzu3ug5k8QWLQlaFk7y-o.jpg',\n  'path': './blueplanet_dataset/images/category/train/4/2213_pzu3ug5k8QWLQlaFk7y-o.jpg'},\n {'actual': 4,\n  'name': '1855_pzttjn9fobmYWBvAC9YB-o.jpg',\n  'path': './blueplanet_dataset/images/category/train/4/1855_pzttjn9fobmYWBvAC9YB-o.jpg'},\n {'actual': 5,\n  'name': '0809_pzsesun8l61JOL5PesJ-o.jpg',\n  'path': './blueplanet_dataset/images/category/train/5/0809_pzsesun8l61JOL5PesJ-o.jpg'},\n {'actual': 5,\n  'name': '0569_pzs5inplYcSvDdsbjz-o.jpg',\n  'path': './blueplanet_dataset/images/category/train/5/0569_pzs5inplYcSvDdsbjz-o.jpg'},\n {'actual': 6,\n  'name': '1781_pztn7442sb7gDCUcPyPB-o.jpg',\n  'path': './blueplanet_dataset/images/category/train/6/1781_pztn7442sb7gDCUcPyPB-o.jpg'},\n {'actual': 6,\n  'name': '0240_pzrkog111riE67dMwCwB-o.jpg',\n  'path': './blueplanet_dataset/images/category/train/6/0240_pzrkog111riE67dMwCwB-o.jpg'},\n {'actual': 7,\n  'name': '0086_pzkf1m8ppf93Kocd1BkX-o.jpg',\n  'path': './blueplanet_dataset/images/category/train/7/0086_pzkf1m8ppf93Kocd1BkX-o.jpg'},\n {'actual': 7,\n  'name': '1735_pztm1p914tLjjR8rGNcw-o.jpg',\n  'path': './blueplanet_dataset/images/category/train/7/1735_pztm1p914tLjjR8rGNcw-o.jpg'},\n {'actual': 8,\n  'name': '2117_pztzs9dg8xnv0c5J47U-o.jpg',\n  'path': './blueplanet_dataset/images/category/train/8/2117_pztzs9dg8xnv0c5J47U-o.jpg'},\n {'actual': 8,\n  'name': '9944_q07zukl6vQ9BzzonHM3-o.jpg',\n  'path': './blueplanet_dataset/images/category/train/8/9944_q07zukl6vQ9BzzonHM3-o.jpg'},\n {'actual': 9,\n  'name': '0669_pzsaje59fxpE3UpAieW-o.jpg',\n  'path': './blueplanet_dataset/images/category/train/9/0669_pzsaje59fxpE3UpAieW-o.jpg'},\n {'actual': 9,\n  'name': '5643_pzzl5ko42g8GWPjRpBd-o.jpg',\n  'path': './blueplanet_dataset/images/category/train/9/5643_pzzl5ko42g8GWPjRpBd-o.jpg'}]\n"
    }
   ],
   "source": [
    "# prepare data for prediction\n",
    "from os.path import isfile, exists, isdir, join\n",
    "\n",
    "path_dir = './blueplanet_dataset/images/category/train/'\n",
    "imgPerCat = 2\n",
    "imgsPath = []\n",
    "catagory = [0,1,2,3,4,5,6,7,8,9]\n",
    "\n",
    "for cat in catagory:\n",
    "    path_ct = join(path_dir, str(cat)) + '/'\n",
    "\n",
    "    image_list = os.listdir(path_ct)\n",
    "    random.shuffle(image_list)\n",
    "    \n",
    "    for img in image_list[:imgPerCat]:\n",
    "        path_img = join(path_ct,img)\n",
    "        imgsPath.append({\"path\":path_img, \"name\":img, \"actual\":cat})\n",
    "\n",
    "print(len(imgsPath))\n",
    "pprint.pprint(imgsPath)"
   ]
  },
  {
   "cell_type": "code",
   "execution_count": 62,
   "metadata": {},
   "outputs": [
    {
     "name": "stdout",
     "output_type": "stream",
     "text": "0.\n 9929_q07yyeji7dJMdKgKGk6-o.jpg\n Prediction: 0\t [[9.1030133e-01 1.1236782e-03 4.6449163e-04 8.4129954e-03 6.7083077e-03\n  1.2738982e-04 1.5797190e-02 2.9722873e-02 3.9506783e-03 2.3391226e-02]]\n Real Value: 0\n1.\n 5514_pzzcudikdMIVH7tLEcG-o.jpg\n Prediction: 0\t [[9.2628253e-01 1.1258449e-03 4.2064034e-04 6.6094021e-03 7.2538871e-03\n  1.8601499e-04 1.6197847e-02 2.3272835e-02 3.1634900e-03 1.5487486e-02]]\n Real Value: 0\n2.\n 1288_pztaqihl3SA38sxbz0V-o.jpg\n Prediction: 0\t [[0.6418616  0.02005995 0.00587663 0.02673761 0.01449484 0.0071\n  0.07147238 0.09794622 0.02425007 0.09020063]]\n Real Value: 1\n3.\n 1447_pztd5jjbw4lmdCIyG1u-o.jpg\n Prediction: 0\t [[0.86464834 0.00480094 0.00158636 0.01406342 0.00920524 0.00116031\n  0.02301465 0.05780149 0.0060358  0.01768352]]\n Real Value: 1\n4.\n 9070_q04zi14s83e39cvhCHtv-o.jpg\n Prediction: 0\t [[9.2123365e-01 1.2008409e-03 3.8634299e-04 7.1540056e-03 4.7013275e-03\n  9.8458659e-05 1.3191444e-02 2.9820256e-02 3.2096384e-03 1.9003902e-02]]\n Real Value: 2\n5.\n 6021_q00rralwgwfWp7qbLSx-o.jpg\n Prediction: 0\t [[0.72723156 0.01903068 0.00406636 0.03614664 0.02020418 0.00410204\n  0.03853361 0.07782875 0.02228718 0.05056899]]\n Real Value: 2\n6.\n 9726_q06kp06lehIoW2kJyT9F-o.jpg\n Prediction: 0\t [[9.1219735e-01 1.3401943e-03 4.0268857e-04 8.8795554e-03 6.9200327e-03\n  1.6130909e-04 1.7298466e-02 2.5284598e-02 3.5069704e-03 2.4008978e-02]]\n Real Value: 3\n7.\n 1844_pzttar10zt8uD7wq1k8s-o.jpg\n Prediction: 0\t [[9.0816021e-01 1.2292627e-03 4.1812711e-04 8.9059938e-03 5.9636375e-03\n  1.0485747e-04 1.3896096e-02 2.8989002e-02 3.7015670e-03 2.8631195e-02]]\n Real Value: 3\n8.\n 2213_pzu3ug5k8QWLQlaFk7y-o.jpg\n Prediction: 0\t [[9.1541207e-01 1.0250490e-03 3.3320833e-04 6.8284650e-03 5.5468008e-03\n  7.1315742e-05 1.5647581e-02 2.6904121e-02 3.2271754e-03 2.5004204e-02]]\n Real Value: 4\n9.\n 1855_pzttjn9fobmYWBvAC9YB-o.jpg\n Prediction: 0\t [[0.7610112  0.00887836 0.00235186 0.02983532 0.02382296 0.00178921\n  0.03455884 0.05989248 0.01557371 0.06228621]]\n Real Value: 4\n10.\n 0809_pzsesun8l61JOL5PesJ-o.jpg\n Prediction: 0\t [[9.0311122e-01 8.1343512e-04 2.6370218e-04 6.8085911e-03 8.8636205e-03\n  7.8193087e-05 1.4251697e-02 3.0604072e-02 3.6005941e-03 3.1604990e-02]]\n Real Value: 5\n11.\n 0569_pzs5inplYcSvDdsbjz-o.jpg\n Prediction: 0\t [[9.1293520e-01 1.0283565e-03 3.4894282e-04 6.7698061e-03 5.9502581e-03\n  6.1250663e-05 1.7268874e-02 2.7778136e-02 2.9637702e-03 2.4895370e-02]]\n Real Value: 5\n12.\n 1781_pztn7442sb7gDCUcPyPB-o.jpg\n Prediction: 0\t [[9.1350949e-01 1.0039700e-03 3.7148950e-04 7.5545153e-03 6.3808733e-03\n  9.6819858e-05 1.3802311e-02 2.5785025e-02 3.6425071e-03 2.7852973e-02]]\n Real Value: 6\n13.\n 0240_pzrkog111riE67dMwCwB-o.jpg\n Prediction: 0\t [[9.0421277e-01 1.0419034e-03 3.5471938e-04 8.1761684e-03 7.7559124e-03\n  8.0370657e-05 1.4671321e-02 2.9864907e-02 3.7248086e-03 3.0117020e-02]]\n Real Value: 6\n14.\n 0086_pzkf1m8ppf93Kocd1BkX-o.jpg\n Prediction: 0\t [[8.4826320e-01 3.0118960e-03 1.1778096e-03 1.3447680e-02 9.8374300e-03\n  4.1950381e-04 2.8998090e-02 4.1181590e-02 8.1738140e-03 4.5488883e-02]]\n Real Value: 7\n15.\n 1735_pztm1p914tLjjR8rGNcw-o.jpg\n Prediction: 0\t [[9.1535962e-01 9.8889566e-04 3.5607067e-04 6.5438105e-03 5.6930762e-03\n  8.2686456e-05 1.4895406e-02 2.6427248e-02 3.5289228e-03 2.6124176e-02]]\n Real Value: 7\n16.\n 2117_pztzs9dg8xnv0c5J47U-o.jpg\n Prediction: 0\t [[9.1393030e-01 1.8473072e-03 4.9673556e-04 9.2482287e-03 6.1413874e-03\n  1.9463309e-04 1.5156921e-02 2.6483912e-02 3.1746584e-03 2.3326134e-02]]\n Real Value: 8\n17.\n 9944_q07zukl6vQ9BzzonHM3-o.jpg\n Prediction: 0\t [[9.0923327e-01 1.0921948e-03 4.3491329e-04 7.7711828e-03 7.3528760e-03\n  1.2245623e-04 1.7322585e-02 2.8386718e-02 4.1801818e-03 2.4103487e-02]]\n Real Value: 8\n18.\n 0669_pzsaje59fxpE3UpAieW-o.jpg\n Prediction: 0\t [[9.2146814e-01 8.8099501e-04 3.3029672e-04 5.9638061e-03 6.9621098e-03\n  8.2369610e-05 1.5150207e-02 2.5552964e-02 3.0680809e-03 2.0541020e-02]]\n Real Value: 9\n19.\n 5643_pzzl5ko42g8GWPjRpBd-o.jpg\n Prediction: 0\t [[8.7350976e-01 1.9345147e-03 7.5570191e-04 1.1878372e-02 1.0107941e-02\n  2.4166910e-04 2.6156174e-02 2.9229511e-02 4.5894799e-03 4.1596763e-02]]\n Real Value: 9\n2\n0.1\n"
    }
   ],
   "source": [
    "from keras.preprocessing.image import load_img, img_to_array\n",
    "match = 0\n",
    "for idx, imgDetail in enumerate(imgsPath):\n",
    "    img = load_img(path=imgDetail['path'], color_mode='rgb')\n",
    "    img2predict = img.copy()\n",
    "    img2predict = img_to_array(img2predict)\n",
    "    img2predict = np.expand_dims(img2predict,0)\n",
    "    img2predict /= 255\n",
    "    pred = resnetModel.predict(img2predict)\n",
    "    predout = np.round(pred, 3)\n",
    "    predout = np.argmax(predout)\n",
    "    # display(Image(img_path))\n",
    "    if predout == imgDetail['actual']:\n",
    "        match += 1\n",
    "    print('{}.\\n {}\\n Prediction: {}\\t {}\\n Real Value: {}'.format(idx, imgDetail['name'], predout, pred, imgDetail['actual']))\n",
    "\n",
    "print(match)\n",
    "acc = match/len(imgsPath)\n",
    "print(acc)"
   ]
  },
  {
   "cell_type": "code",
   "execution_count": null,
   "metadata": {},
   "outputs": [],
   "source": []
  }
 ]
}