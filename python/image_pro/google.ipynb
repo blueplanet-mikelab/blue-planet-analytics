{
 "nbformat": 4,
 "nbformat_minor": 2,
 "metadata": {
  "language_info": {
   "name": "python",
   "codemirror_mode": {
    "name": "ipython",
    "version": 3
   },
   "version": "3.6.7"
  },
  "orig_nbformat": 2,
  "file_extension": ".py",
  "mimetype": "text/x-python",
  "name": "python",
  "npconvert_exporter": "python",
  "pygments_lexer": "ipython3",
  "version": 3
 },
 "cells": [
  {
   "cell_type": "code",
   "execution_count": 10,
   "metadata": {},
   "outputs": [],
   "source": [
    "import os\n",
    "gg_path = \"D:/AOM_Document/blue-planet-pantip-analytics/python/image_pro/MyFirstProject-29f6ebeaafc3.json\"\n",
    "os.environ[\"GOOGLE_APPLICATION_CREDENTIALS\"] = gg_path"
   ]
  },
  {
   "cell_type": "code",
   "execution_count": 4,
   "metadata": {},
   "outputs": [],
   "source": [
    " from google.cloud import vision"
   ]
  },
  {
   "cell_type": "markdown",
   "execution_count": null,
   "metadata": {},
   "outputs": [],
   "source": [
    "dashboard - https://console.cloud.google.com/apis/api/vision.googleapis.com/overview?project=quantum-bonus-239509 <br>\n",
    "keysetup - https://cloud.google.com/vision/docs/setup <br>\n",
    "function example - https://cloud.google.com/vision/docs/labels#vision-label-detection-python"
   ]
  },
  {
   "cell_type": "code",
   "execution_count": 5,
   "metadata": {},
   "outputs": [],
   "source": [
    "def detect_labels_uri(uri):\n",
    "    \"\"\"Detects labels in the file located in Google Cloud Storage or on the\n",
    "    Web.\"\"\"\n",
    "    client = vision.ImageAnnotatorClient()\n",
    "    image = vision.types.Image()\n",
    "    image.source.image_uri = uri\n",
    "\n",
    "    response = client.label_detection(image=image)\n",
    "    labels = response.label_annotations\n",
    "    print('Labels:')\n",
    "\n",
    "    for label in labels:\n",
    "        print(label.description)\n",
    "\n",
    "    return response"
   ]
  },
  {
   "cell_type": "code",
   "execution_count": 11,
   "metadata": {},
   "outputs": [
    {
     "name": "stdout",
     "output_type": "stream",
     "text": "Labels:\nPeople in nature\nTree\nSky\nNatural landscape\nMountain\nBranch\nWilderness\nWoody plant\nPlant\nCloud\n"
    }
   ],
   "source": [
    "res = detect_labels_uri(\"https://f.ptcdn.info/527/065/000/pwbyk21h49ZL8Otkdr-o.jpg\")\n"
   ]
  },
  {
   "cell_type": "code",
   "execution_count": 7,
   "metadata": {},
   "outputs": [
    {
     "name": "stdout",
     "output_type": "stream",
     "text": "/d/AOM_Document\n"
    }
   ],
   "source": [
    "!pwd"
   ]
  },
  {
   "cell_type": "code",
   "execution_count": 13,
   "metadata": {},
   "outputs": [
    {
     "name": "stdout",
     "output_type": "stream",
     "text": "<class 'google.cloud.vision_v1.types.AnnotateImageResponse'>\nlabel_annotations {\n  mid: \"/j/3gbwgn\"\n  description: \"People in nature\"\n  score: 0.9788440465927124\n  topicality: 0.9788440465927124\n}\nlabel_annotations {\n  mid: \"/m/07j7r\"\n  description: \"Tree\"\n  score: 0.954918622970581\n  topicality: 0.954918622970581\n}\nlabel_annotations {\n  mid: \"/m/01bqvp\"\n  description: \"Sky\"\n  score: 0.9281086325645447\n  topicality: 0.9281086325645447\n}\nlabel_annotations {\n  mid: \"/m/03d28y3\"\n  description: \"Natural landscape\"\n  score: 0.8855189085006714\n  topicality: 0.8855189085006714\n}\nlabel_annotations {\n  mid: \"/m/09d_r\"\n  description: \"Mountain\"\n  score: 0.8733185529708862\n  topicality: 0.8733185529708862\n}\nlabel_annotations {\n  mid: \"/m/0b5gs\"\n  description: \"Branch\"\n  score: 0.8433167934417725\n  topicality: 0.8433167934417725\n}\nlabel_annotations {\n  mid: \"/m/023bbt\"\n  description: \"Wilderness\"\n  score: 0.8227760791778564\n  topicality: 0.8227760791778564\n}\nlabel_annotations {\n  mid: \"/m/02hnx9\"\n  description: \"Woody plant\"\n  score: 0.7990313172340393\n  topicality: 0.7990313172340393\n}\nlabel_annotations {\n  mid: \"/m/05s2s\"\n  description: \"Plant\"\n  score: 0.6824741363525391\n  topicality: 0.6824741363525391\n}\nlabel_annotations {\n  mid: \"/m/0csby\"\n  description: \"Cloud\"\n  score: 0.6644815802574158\n  topicality: 0.6644815802574158\n}\n\n"
    }
   ],
   "source": [
    "print(type(res))\n",
    "print(res)"
   ]
  },
  {
   "cell_type": "code",
   "execution_count": null,
   "metadata": {},
   "outputs": [],
   "source": []
  }
 ]
}